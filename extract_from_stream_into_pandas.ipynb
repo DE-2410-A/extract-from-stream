{
 "cells": [
  {
   "cell_type": "markdown",
   "metadata": {},
   "source": [
    "# ![Digital Futures](https://github.com/digital-futures-academy/DataScienceMasterResources/blob/main/Resources/datascience-notebook-header.png?raw=true)"
   ]
  },
  {
   "cell_type": "markdown",
   "metadata": {},
   "source": [
    "# Extracting Data from a Stream Provided by Kafka\n",
    "\n",
    "This notebook demonstrates how to extract data from a stream provided by a Kafka stream.  The stream is randomly generated numbers between 0 and 100 that are emitted every 0.5s.  The objective is to tap into the stream and collect the next 100 values and put them into a ***Pandas*** **DataFrame**."
   ]
  },
  {
   "cell_type": "markdown",
   "metadata": {},
   "source": [
    "---"
   ]
  },
  {
   "cell_type": "markdown",
   "metadata": {},
   "source": [
    "## Step 1: Install and Import Required Libraries\n",
    "\n",
    "Install and import the necessary libraries, including confluent_kafka.Consumer and pandas."
   ]
  },
  {
   "cell_type": "markdown",
   "metadata": {},
   "source": [
    "### Environment Setup Scripts\n",
    "\n",
    "Make sure that you have the correct environment running - this includes the correct version of Python and all the necessary libraries.  If running in VSCode, you may need to create a virtual environment and activate it before running code cells notebook.\n",
    "\n",
    "If you are running this notebook after cloning and have not set up your environment to run shell commands, you will need to run the following commands in your terminal to set up the environment.\n",
    "\n",
    "> **NOTE:**  These commands need to be executed in the terminal.  \n",
    ">\n",
    "> Open a terminal at the root of your project before executing these commands\n",
    "> \n",
    "> Until your environment is set up, Jupyter Notebooks will not be able to run **shell** scripts.\n",
    "\n",
    "```sh\n",
    "# Create a virtual environment (add the command below)\n",
    "python3 -m venv .venv\n",
    "# Note: This command could also be python -m venv .venv \n",
    "# python3 and python are a symlink to the python version installed on your system\n",
    "\n",
    "# Activate the virtual environment \n",
    "source .venv/bin/activate\n",
    "\n",
    "# Install required package to execute shell commands from Jupyter Notebook\n",
    "pip install ipykernel confluent-kafka pandas        ## OR \n",
    "pip install -r requirements.txt     ## IF there is already a requirements.txt file CONTAINING ipykenrnel in the project\n",
    "```\n",
    "\n",
    "`ipykernel` is a package that allows Jupyter Notebooks to run shell commands."
   ]
  },
  {
   "cell_type": "markdown",
   "metadata": {},
   "source": [
    "### Import Libraries"
   ]
  },
  {
   "cell_type": "code",
   "execution_count": null,
   "metadata": {},
   "outputs": [],
   "source": [
    "# Import the necessary libraries\n",
    "from confluent_kafka import Consumer, KafkaException\n",
    "import pandas as pd"
   ]
  },
  {
   "cell_type": "markdown",
   "metadata": {},
   "source": [
    "---"
   ]
  },
  {
   "cell_type": "markdown",
   "metadata": {},
   "source": [
    "## Configure Kafka Consumer\n",
    "\n",
    "Set up the Kafka consumer configuration, including the bootstrap servers and topic."
   ]
  },
  {
   "cell_type": "code",
   "execution_count": null,
   "metadata": {},
   "outputs": [],
   "source": [
    "# Configure Kafka Consumer\n",
    "bootstrap_server = 'localhost:9092'\n",
    "consumer_conf = {\n",
    "    'bootstrap.servers': bootstrap_server,  # Replace with your Kafka bootstrap servers\n",
    "    'group.id': 'my_group',  # Replace with your consumer group id\n",
    "    'auto.offset.reset': 'earliest'\n",
    "}\n",
    "\n",
    "print(\"Kafka Consumer Configuration:\", consumer_conf)\n",
    "\n",
    "# Create Kafka Consumer\n",
    "consumer = Consumer(consumer_conf)\n",
    "\n",
    "# Subscribe to the topic\n",
    "topic = 'random_numbers'  # Replace with your Kafka topic\n",
    "consumer.subscribe([topic])\n"
   ]
  },
  {
   "cell_type": "markdown",
   "metadata": {},
   "source": [
    "---"
   ]
  },
  {
   "cell_type": "markdown",
   "metadata": {},
   "source": [
    "## Collect Data from Kafka Stream\n",
    "\n",
    "Consume messages from the Kafka stream and collect 100 values."
   ]
  },
  {
   "cell_type": "code",
   "execution_count": null,
   "metadata": {},
   "outputs": [],
   "source": [
    "# Collect Data from Kafka Stream\n",
    "messages = []\n",
    "num_messages_to_collect = 100\n",
    "\n",
    "try:\n",
    "    while len(messages) < num_messages_to_collect:\n",
    "        msg = consumer.poll(timeout=1.0)  # Poll for new messages\n",
    "        if msg is None:\n",
    "            print(\"No message\")\n",
    "            continue\n",
    "        if msg.error():\n",
    "            if msg.error().code() == KafkaError._PARTITION_EOF:\n",
    "                # End of partition event\n",
    "                continue\n",
    "            else:\n",
    "                # Error\n",
    "                raise KafkaException(msg.error())\n",
    "        else:\n",
    "            # Message is valid\n",
    "            messages.append(msg.value().decode('utf-8'))\n",
    "finally:\n",
    "    # Close the consumer to commit final offsets\n",
    "    consumer.close()\n"
   ]
  },
  {
   "cell_type": "markdown",
   "metadata": {},
   "source": [
    "---"
   ]
  },
  {
   "cell_type": "markdown",
   "metadata": {},
   "source": [
    "## Store Data in Pandas DataFrame\n",
    "Store the collected values into a pandas DataFrame."
   ]
  },
  {
   "cell_type": "code",
   "execution_count": null,
   "metadata": {},
   "outputs": [],
   "source": [
    "# Store the collected values into a pandas DataFrame.\n",
    "\n",
    "# Create a pandas DataFrame from the collected messages\n",
    "df = pd.DataFrame(messages, columns=['message'])\n",
    "\n",
    "# Display the first few and last few rows of the DataFrame\n",
    "df\n"
   ]
  }
 ],
 "metadata": {
  "kernelspec": {
   "display_name": ".venv",
   "language": "python",
   "name": "python3"
  },
  "language_info": {
   "codemirror_mode": {
    "name": "ipython",
    "version": 3
   },
   "file_extension": ".py",
   "mimetype": "text/x-python",
   "name": "python",
   "nbconvert_exporter": "python",
   "pygments_lexer": "ipython3",
   "version": "3.13.0"
  }
 },
 "nbformat": 4,
 "nbformat_minor": 2
}
